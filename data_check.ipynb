{
 "cells": [
  {
   "cell_type": "code",
   "execution_count": 1,
   "metadata": {},
   "outputs": [],
   "source": [
    "import os\n",
    "import pandas as pd"
   ]
  },
  {
   "cell_type": "code",
   "execution_count": 2,
   "metadata": {},
   "outputs": [],
   "source": [
    "ROOT_DIR = os.path.join('/home', 'rlawlsgurjh', 'work', 'MolRL-MGPT')"
   ]
  },
  {
   "cell_type": "code",
   "execution_count": 3,
   "metadata": {},
   "outputs": [
    {
     "name": "stdout",
     "output_type": "stream",
     "text": [
      "   Unnamed: 0                                             Smiles\n",
      "0           0      CC(Sc1nn(-c2ccc(Cl)cc2)c(=S)s1)C(=O)NCC1CCCO1\n",
      "1           1                       Cc1ccc(C)n1-c1cccc(C(=O)O)c1\n",
      "2           2  Cc1cc2c(C(C)C)c(O)c(O)c(/C=N/O)c2c(O)c1-c1c(C)...\n",
      "3           3         Cc1nc2c(c(C)c1CC(=O)NCc1ccco1)c(=O)[nH]n2C\n",
      "4           4         O=C(c1csnn1)N1CCC[C@@]2(CCN(c3ncccn3)C2)C1\n",
      "(1757557, 2)\n"
     ]
    }
   ],
   "source": [
    "data_path = os.path.join(ROOT_DIR, 'data', 'ChEMBL_Smiles.csv')\n",
    "\n",
    "df = pd.read_csv(data_path)\n",
    "\n",
    "print(df.head())\n",
    "print(df.shape)"
   ]
  },
  {
   "cell_type": "code",
   "execution_count": 4,
   "metadata": {},
   "outputs": [
    {
     "data": {
      "text/html": [
       "<div>\n",
       "<style scoped>\n",
       "    .dataframe tbody tr th:only-of-type {\n",
       "        vertical-align: middle;\n",
       "    }\n",
       "\n",
       "    .dataframe tbody tr th {\n",
       "        vertical-align: top;\n",
       "    }\n",
       "\n",
       "    .dataframe thead th {\n",
       "        text-align: right;\n",
       "    }\n",
       "</style>\n",
       "<table border=\"1\" class=\"dataframe\">\n",
       "  <thead>\n",
       "    <tr style=\"text-align: right;\">\n",
       "      <th></th>\n",
       "      <th>Unnamed: 0</th>\n",
       "      <th>Smiles</th>\n",
       "    </tr>\n",
       "  </thead>\n",
       "  <tbody>\n",
       "    <tr>\n",
       "      <th>0</th>\n",
       "      <td>0</td>\n",
       "      <td>CC(Sc1nn(-c2ccc(Cl)cc2)c(=S)s1)C(=O)NCC1CCCO1</td>\n",
       "    </tr>\n",
       "    <tr>\n",
       "      <th>1</th>\n",
       "      <td>1</td>\n",
       "      <td>Cc1ccc(C)n1-c1cccc(C(=O)O)c1</td>\n",
       "    </tr>\n",
       "    <tr>\n",
       "      <th>2</th>\n",
       "      <td>2</td>\n",
       "      <td>Cc1cc2c(C(C)C)c(O)c(O)c(/C=N/O)c2c(O)c1-c1c(C)...</td>\n",
       "    </tr>\n",
       "    <tr>\n",
       "      <th>3</th>\n",
       "      <td>3</td>\n",
       "      <td>Cc1nc2c(c(C)c1CC(=O)NCc1ccco1)c(=O)[nH]n2C</td>\n",
       "    </tr>\n",
       "    <tr>\n",
       "      <th>4</th>\n",
       "      <td>4</td>\n",
       "      <td>O=C(c1csnn1)N1CCC[C@@]2(CCN(c3ncccn3)C2)C1</td>\n",
       "    </tr>\n",
       "    <tr>\n",
       "      <th>...</th>\n",
       "      <td>...</td>\n",
       "      <td>...</td>\n",
       "    </tr>\n",
       "    <tr>\n",
       "      <th>1757551</th>\n",
       "      <td>1757551</td>\n",
       "      <td>CCOC(=O)[C@@H]1C[C@H]1Cc1c(Br)c(Br)c(OC)c(OC)c1Br</td>\n",
       "    </tr>\n",
       "    <tr>\n",
       "      <th>1757552</th>\n",
       "      <td>1757552</td>\n",
       "      <td>COc1ccc(Cn2cc(CNC(=O)c3ccc([N+](=O)[O-])o3)nn2...</td>\n",
       "    </tr>\n",
       "    <tr>\n",
       "      <th>1757553</th>\n",
       "      <td>1757553</td>\n",
       "      <td>CC(C)CNc1nc2c(cc1C(=O)NCC1CC1)CCNCC2</td>\n",
       "    </tr>\n",
       "    <tr>\n",
       "      <th>1757554</th>\n",
       "      <td>1757554</td>\n",
       "      <td>Nc1ccc(C(=O)/C=C/c2ccccc2Br)cc1</td>\n",
       "    </tr>\n",
       "    <tr>\n",
       "      <th>1757555</th>\n",
       "      <td>1757555</td>\n",
       "      <td>COc1ccc(COC(=O)N[C@](C)(Cc2c[nH]c3ccccc23)C(=O...</td>\n",
       "    </tr>\n",
       "  </tbody>\n",
       "</table>\n",
       "<p>1757556 rows × 2 columns</p>\n",
       "</div>"
      ],
      "text/plain": [
       "         Unnamed: 0                                             Smiles\n",
       "0                 0      CC(Sc1nn(-c2ccc(Cl)cc2)c(=S)s1)C(=O)NCC1CCCO1\n",
       "1                 1                       Cc1ccc(C)n1-c1cccc(C(=O)O)c1\n",
       "2                 2  Cc1cc2c(C(C)C)c(O)c(O)c(/C=N/O)c2c(O)c1-c1c(C)...\n",
       "3                 3         Cc1nc2c(c(C)c1CC(=O)NCc1ccco1)c(=O)[nH]n2C\n",
       "4                 4         O=C(c1csnn1)N1CCC[C@@]2(CCN(c3ncccn3)C2)C1\n",
       "...             ...                                                ...\n",
       "1757551     1757551  CCOC(=O)[C@@H]1C[C@H]1Cc1c(Br)c(Br)c(OC)c(OC)c1Br\n",
       "1757552     1757552  COc1ccc(Cn2cc(CNC(=O)c3ccc([N+](=O)[O-])o3)nn2...\n",
       "1757553     1757553               CC(C)CNc1nc2c(cc1C(=O)NCC1CC1)CCNCC2\n",
       "1757554     1757554                    Nc1ccc(C(=O)/C=C/c2ccccc2Br)cc1\n",
       "1757555     1757555  COc1ccc(COC(=O)N[C@](C)(Cc2c[nH]c3ccccc23)C(=O...\n",
       "\n",
       "[1757556 rows x 2 columns]"
      ]
     },
     "execution_count": 4,
     "metadata": {},
     "output_type": "execute_result"
    }
   ],
   "source": [
    "df.dropna()"
   ]
  },
  {
   "cell_type": "code",
   "execution_count": null,
   "metadata": {},
   "outputs": [],
   "source": []
  }
 ],
 "metadata": {
  "kernelspec": {
   "display_name": "Python 3 (ipykernel)",
   "language": "python",
   "name": "python3"
  },
  "language_info": {
   "codemirror_mode": {
    "name": "ipython",
    "version": 3
   },
   "file_extension": ".py",
   "mimetype": "text/x-python",
   "name": "python",
   "nbconvert_exporter": "python",
   "pygments_lexer": "ipython3",
   "version": "3.10.16"
  }
 },
 "nbformat": 4,
 "nbformat_minor": 2
}
